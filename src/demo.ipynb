{
 "cells": [
  {
   "cell_type": "code",
   "execution_count": 1,
   "id": "892174a3",
   "metadata": {},
   "outputs": [
    {
     "name": "stderr",
     "output_type": "stream",
     "text": [
      "2022-10-04 20:44:09.316978: E tensorflow/stream_executor/cuda/cuda_blas.cc:2981] Unable to register cuBLAS factory: Attempting to register factory for plugin cuBLAS when one has already been registered\n",
      "2022-10-04 20:44:09.779171: W tensorflow/stream_executor/platform/default/dso_loader.cc:64] Could not load dynamic library 'libnvinfer.so.7'; dlerror: libnvinfer.so.7: cannot open shared object file: No such file or directory\n",
      "2022-10-04 20:44:09.779239: W tensorflow/stream_executor/platform/default/dso_loader.cc:64] Could not load dynamic library 'libnvinfer_plugin.so.7'; dlerror: libnvinfer_plugin.so.7: cannot open shared object file: No such file or directory\n",
      "2022-10-04 20:44:09.779246: W tensorflow/compiler/tf2tensorrt/utils/py_utils.cc:38] TF-TRT Warning: Cannot dlopen some TensorRT libraries. If you would like to use Nvidia GPU with TensorRT, please make sure the missing libraries mentioned above are installed properly.\n"
     ]
    },
    {
     "name": "stdout",
     "output_type": "stream",
     "text": [
      "Loading TweetTokenizer...\n",
      "Finsihed loading TweetTokenizer\n",
      "Loading stopwords and stemmer...\n",
      "Finished loading stopwords and stemmer\n"
     ]
    },
    {
     "name": "stderr",
     "output_type": "stream",
     "text": [
      "[nltk_data] Downloading package twitter_samples to\n",
      "[nltk_data]     /home/gonzalo/nltk_data...\n",
      "[nltk_data]   Package twitter_samples is already up-to-date!\n",
      "[nltk_data] Downloading package stopwords to\n",
      "[nltk_data]     /home/gonzalo/nltk_data...\n",
      "[nltk_data]   Package stopwords is already up-to-date!\n"
     ]
    }
   ],
   "source": [
    "import textmood as tm"
   ]
  },
  {
   "cell_type": "code",
   "execution_count": 6,
   "id": "c6820923",
   "metadata": {},
   "outputs": [
    {
     "name": "stdout",
     "output_type": "stream",
     "text": [
      "Loading vocab...\n",
      "Loading model architecture...\n",
      "Success!\n"
     ]
    }
   ],
   "source": [
    "my_model = tm.TextMoodModel(\"model_2\")"
   ]
  },
  {
   "cell_type": "code",
   "execution_count": 7,
   "id": "c3adfa86",
   "metadata": {},
   "outputs": [
    {
     "name": "stdout",
     "output_type": "stream",
     "text": [
      "Model initialized.\n"
     ]
    }
   ],
   "source": [
    "my_model.initialize_model()"
   ]
  },
  {
   "cell_type": "code",
   "execution_count": 8,
   "id": "435ce886",
   "metadata": {},
   "outputs": [
    {
     "data": {
      "text/plain": [
       "0"
      ]
     },
     "execution_count": 8,
     "metadata": {},
     "output_type": "execute_result"
    }
   ],
   "source": [
    "my_model.predict(\"I am very sad, this was a terrible day\")"
   ]
  },
  {
   "cell_type": "code",
   "execution_count": 9,
   "id": "b9000409",
   "metadata": {},
   "outputs": [
    {
     "data": {
      "text/plain": [
       "[0, 1, 0, 0, 1, 1, 0, 0]"
      ]
     },
     "execution_count": 9,
     "metadata": {},
     "output_type": "execute_result"
    }
   ],
   "source": [
    "sentences = [\n",
    "    \"I am very sad, this was a terrible day\",\n",
    "    \"I'm happy!\",\n",
    "    \"Math class is so boring...\",\n",
    "    \"I don't give a shit about your life\",\n",
    "    \"I love this brand, its awesome\",\n",
    "    \"Nice\",\n",
    "    \"this is difficult\",\n",
    "    \"my friend is the best stupid person\"\n",
    "]\n",
    "\n",
    "my_model.predict_batch(sentences)"
   ]
  }
 ],
 "metadata": {
  "kernelspec": {
   "display_name": "TextMood (venv)",
   "language": "python",
   "name": "venv"
  },
  "language_info": {
   "codemirror_mode": {
    "name": "ipython",
    "version": 3
   },
   "file_extension": ".py",
   "mimetype": "text/x-python",
   "name": "python",
   "nbconvert_exporter": "python",
   "pygments_lexer": "ipython3",
   "version": "3.10.6"
  }
 },
 "nbformat": 4,
 "nbformat_minor": 5
}
