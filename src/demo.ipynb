{
 "cells": [
  {
   "cell_type": "markdown",
   "id": "82ee6380",
   "metadata": {},
   "source": [
    "<h1 style=\"background-color: #4d6fb3; color: #ffffff;margin: 10px; padding: 30px;\"> TextMood DEMO</h1>"
   ]
  },
  {
   "cell_type": "markdown",
   "id": "d97010a5",
   "metadata": {},
   "source": [
    "## This demo is intentded to show how to use the textmood module\n",
    "#### More info: https://github.com/gonzalo-cordova-pou/TextMood\n",
    "#### For questions: textmoodupc@gmail.com"
   ]
  },
  {
   "cell_type": "code",
   "execution_count": 1,
   "id": "892174a3",
   "metadata": {
    "scrolled": true
   },
   "outputs": [
    {
     "name": "stderr",
     "output_type": "stream",
     "text": [
      "2022-10-16 13:12:31.705160: E tensorflow/stream_executor/cuda/cuda_blas.cc:2981] Unable to register cuBLAS factory: Attempting to register factory for plugin cuBLAS when one has already been registered\n",
      "2022-10-16 13:12:32.592303: W tensorflow/stream_executor/platform/default/dso_loader.cc:64] Could not load dynamic library 'libnvinfer.so.7'; dlerror: libnvinfer.so.7: cannot open shared object file: No such file or directory\n",
      "2022-10-16 13:12:32.592388: W tensorflow/stream_executor/platform/default/dso_loader.cc:64] Could not load dynamic library 'libnvinfer_plugin.so.7'; dlerror: libnvinfer_plugin.so.7: cannot open shared object file: No such file or directory\n",
      "2022-10-16 13:12:32.592399: W tensorflow/compiler/tf2tensorrt/utils/py_utils.cc:38] TF-TRT Warning: Cannot dlopen some TensorRT libraries. If you would like to use Nvidia GPU with TensorRT, please make sure the missing libraries mentioned above are installed properly.\n"
     ]
    },
    {
     "name": "stdout",
     "output_type": "stream",
     "text": [
      "Loading TweetTokenizer...\n",
      "Finsihed loading TweetTokenizer\n",
      "Loading stopwords and stemmer...\n",
      "Finished loading stopwords and stemmer\n"
     ]
    },
    {
     "name": "stderr",
     "output_type": "stream",
     "text": [
      "[nltk_data] Downloading package twitter_samples to\n",
      "[nltk_data]     /home/gonzalo/nltk_data...\n",
      "[nltk_data]   Package twitter_samples is already up-to-date!\n",
      "[nltk_data] Downloading package stopwords to\n",
      "[nltk_data]     /home/gonzalo/nltk_data...\n",
      "[nltk_data]   Package stopwords is already up-to-date!\n"
     ]
    }
   ],
   "source": [
    "import textmood as tm\n",
    "import ipywidgets as widgets"
   ]
  },
  {
   "cell_type": "code",
   "execution_count": 10,
   "id": "1d0c2ecd",
   "metadata": {},
   "outputs": [
    {
     "data": {
      "application/vnd.jupyter.widget-view+json": {
       "model_id": "a6f01e3c595e4faeaaf30be467f3ca27",
       "version_major": 2,
       "version_minor": 0
      },
      "text/plain": [
       "Dropdown(description='Select model:', index=14, options=('MODEL_xlarge_01', 'model_0', 'model_CARBON_test', 'M…"
      ]
     },
     "execution_count": 10,
     "metadata": {},
     "output_type": "execute_result"
    }
   ],
   "source": [
    "model_selection = widgets.Dropdown(options=tm.get_model_names(),value='MODEL_xlarge_09',description='Select model:')\n",
    "model_selection"
   ]
  },
  {
   "cell_type": "code",
   "execution_count": 13,
   "id": "c6820923",
   "metadata": {},
   "outputs": [
    {
     "name": "stdout",
     "output_type": "stream",
     "text": [
      "Loading vocab...\n",
      "Loading model architecture...\n",
      "Success!\n"
     ]
    }
   ],
   "source": [
    "my_model = tm.TextMoodModel(model_selection.value)"
   ]
  },
  {
   "cell_type": "code",
   "execution_count": 14,
   "id": "c3adfa86",
   "metadata": {},
   "outputs": [
    {
     "name": "stderr",
     "output_type": "stream",
     "text": [
      "WARNING:absl:No GPU/TPU found, falling back to CPU. (Set TF_CPP_MIN_LOG_LEVEL=0 and rerun for more info.)\n"
     ]
    },
    {
     "name": "stdout",
     "output_type": "stream",
     "text": [
      "Model initialized.\n"
     ]
    }
   ],
   "source": [
    "my_model.initialize_model()"
   ]
  },
  {
   "cell_type": "code",
   "execution_count": 15,
   "id": "435ce886",
   "metadata": {},
   "outputs": [
    {
     "data": {
      "text/plain": [
       "0"
      ]
     },
     "execution_count": 15,
     "metadata": {},
     "output_type": "execute_result"
    }
   ],
   "source": [
    "my_model.predict(\"I am very sad, this was a terrible day\")"
   ]
  },
  {
   "cell_type": "code",
   "execution_count": 20,
   "id": "b9000409",
   "metadata": {},
   "outputs": [
    {
     "data": {
      "text/plain": [
       "[0, 1, 0, 0, 1, 1, 0, 0, 0, 1]"
      ]
     },
     "execution_count": 20,
     "metadata": {},
     "output_type": "execute_result"
    }
   ],
   "source": [
    "sentences = [\n",
    "    \"I am very sad, this was a terrible day\",\n",
    "    \"I'm happy!\",\n",
    "    \"Math class is so boring...\",\n",
    "    \"I don't give a shit about your life\",\n",
    "    \"I love this brand, its awesome\",\n",
    "    \"Nice\",\n",
    "    \"this is difficult\",\n",
    "    \"my friend is the best stupid person\"\n",
    "    \"fuck this country, its disgusting\",\n",
    "    \"So sorry for last game to all the @GAMesportsVN fans. Actually feeling horrible, wanted to apologize personally from my side.\",\n",
    "    \"glad he had the courage to say it\"\n",
    "]\n",
    "\n",
    "my_model.predict_batch(sentences)"
   ]
  },
  {
   "cell_type": "code",
   "execution_count": null,
   "id": "d0639f76",
   "metadata": {},
   "outputs": [],
   "source": []
  }
 ],
 "metadata": {
  "kernelspec": {
   "display_name": "TextMood (venv)",
   "language": "python",
   "name": "venv"
  },
  "language_info": {
   "codemirror_mode": {
    "name": "ipython",
    "version": 3
   },
   "file_extension": ".py",
   "mimetype": "text/x-python",
   "name": "python",
   "nbconvert_exporter": "python",
   "pygments_lexer": "ipython3",
   "version": "3.10.6"
  }
 },
 "nbformat": 4,
 "nbformat_minor": 5
}
